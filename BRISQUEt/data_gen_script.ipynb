{
 "cells": [
  {
   "cell_type": "markdown",
   "metadata": {},
   "source": [
    "## rename files"
   ]
  },
  {
   "cell_type": "code",
   "execution_count": 2,
   "metadata": {
    "collapsed": false
   },
   "outputs": [],
   "source": [
    "import os\n",
    "import glob\n",
    "\n",
    "# file_names = glob.glob('./memes/*.png')\n",
    "\n",
    "# for i in range(len(file_names)):\n",
    "#     os.rename(file_names[i], \"./memes/meme_%d.png\"%(i+1))"
   ]
  },
  {
   "cell_type": "markdown",
   "metadata": {},
   "source": [
    "## ffmpeg script to generate different distorted images"
   ]
  },
  {
   "cell_type": "code",
   "execution_count": 8,
   "metadata": {
    "collapsed": false
   },
   "outputs": [],
   "source": [
    "org_path = './memes/'\n",
    "dist_path = './dist_levels/'\n",
    "\n",
    "for dist_level in range(1, 32):\n",
    "    \n",
    "    if not os.path.exists(dist_path + '' +str(dist_level)):\n",
    "        os.makedirs(dist_path + str(dist_level))\n",
    "\n",
    "    for filename in os.listdir(org_path):\n",
    "        if (filename.endswith(\".png\")): \n",
    "            os.system(\"ffmpeg -i %s//%s -q:v %d %s//%d//%s.jpg\"%(org_path, filename, dist_level, dist_path, dist_level, filename[:-4]))\n",
    "        else:\n",
    "            continue"
   ]
  },
  {
   "cell_type": "code",
   "execution_count": null,
   "metadata": {
    "collapsed": true
   },
   "outputs": [],
   "source": []
  }
 ],
 "metadata": {
  "kernelspec": {
   "display_name": "Python 2",
   "language": "python",
   "name": "python2"
  },
  "language_info": {
   "codemirror_mode": {
    "name": "ipython",
    "version": 2
   },
   "file_extension": ".py",
   "mimetype": "text/x-python",
   "name": "python",
   "nbconvert_exporter": "python",
   "pygments_lexer": "ipython2",
   "version": "2.7.13"
  }
 },
 "nbformat": 4,
 "nbformat_minor": 2
}
